{
 "cells": [
  {
   "cell_type": "code",
   "execution_count": 1,
   "id": "a8dbfbdb-37f9-44fe-b001-4d878dee9ae3",
   "metadata": {},
   "outputs": [
    {
     "name": "stdout",
     "output_type": "stream",
     "text": [
      "unzip:  cannot find or open helmet_tolo.zip, helmet_tolo.zip.zip or helmet_tolo.zip.ZIP.\n"
     ]
    }
   ],
   "source": [
    "!unzip helmet_tolo.zip"
   ]
  }
 ],
 "metadata": {
  "kernelspec": {
   "display_name": "Python 3 (ipykernel)",
   "language": "python",
   "name": "python3"
  },
  "language_info": {
   "codemirror_mode": {
    "name": "ipython",
    "version": 3
   },
   "file_extension": ".py",
   "mimetype": "text/x-python",
   "name": "python",
   "nbconvert_exporter": "python",
   "pygments_lexer": "ipython3",
   "version": "3.8.10"
  }
 },
 "nbformat": 4,
 "nbformat_minor": 5
}
